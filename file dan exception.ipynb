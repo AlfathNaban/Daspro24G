{
 "cells": [
  {
   "cell_type": "code",
   "execution_count": null,
   "id": "17862f7a-5595-4ac3-b660-395b02f2e525",
   "metadata": {},
   "outputs": [
    {
     "name": "stdout",
     "output_type": "stream",
     "text": [
      "=== Menu Data Mahasiswa ===\n",
      "1. Tambah Data Mahasiswa\n",
      "2. Tampilkan Data Mahasiswa\n",
      "3. Keluar\n"
     ]
    },
    {
     "name": "stdin",
     "output_type": "stream",
     "text": [
      "Pilih menu (1/2/3):  1\n",
      "Masukkan NIM:  20240040055\n",
      "Masukkan Nama:  MUHAMMAD NABAN ALFATH\n",
      "Masukkan Alamat:  PERUMAHAN PURI KHAYANGAN\n",
      "Masukkan Kelas (TI23/TI24):  TI24\n"
     ]
    },
    {
     "name": "stdout",
     "output_type": "stream",
     "text": [
      "Data berhasil disimpan!\n",
      "\n",
      "Proses tambah data selesai.\n",
      "\n",
      "=== Menu Data Mahasiswa ===\n",
      "1. Tambah Data Mahasiswa\n",
      "2. Tampilkan Data Mahasiswa\n",
      "3. Keluar\n"
     ]
    },
    {
     "name": "stdin",
     "output_type": "stream",
     "text": [
      "Pilih menu (1/2/3):  2\n"
     ]
    },
    {
     "name": "stdout",
     "output_type": "stream",
     "text": [
      "\n",
      "Daftar Mahasiswa:\n",
      "NIM: 20240040055, Nama: MUHAMMAD NABAN ALFATH, Alamat: PERUMAHAN PURI KHAYANGAN, Kelas: TI24\n",
      "Proses tampil data selesai.\n",
      "\n",
      "=== Menu Data Mahasiswa ===\n",
      "1. Tambah Data Mahasiswa\n",
      "2. Tampilkan Data Mahasiswa\n",
      "3. Keluar\n"
     ]
    }
   ],
   "source": [
    "import csv\n",
    "\n",
    "class InputInvalidError(Exception):\n",
    "    pass\n",
    "\n",
    "def validasi_data(nim, nama, alamat, kelas):\n",
    "    if len(nim) != 11 or not nim.isdigit():\n",
    "        raise InputInvalidError(\"20240040055.\")\n",
    "    if len(nama) < 6:\n",
    "        raise InputInvalidError(\"Muhammad Naban Alfath.\")\n",
    "    if len(alamat) < 10:\n",
    "        raise InputInvalidError(\"perumahan puri khayangan.\")\n",
    "    if kelas not in [\"TI23\",\"TI24\"]:\n",
    "        raise InputInvalidError(\"TI24.\")\n",
    "\n",
    "def tambah_data():\n",
    "    try:\n",
    "        nim = input(\"Masukkan NIM: \")\n",
    "        nama = input(\"Masukkan Nama: \")\n",
    "        alamat = input(\"Masukkan Alamat: \")\n",
    "        kelas = input(\"Masukkan Kelas (TI23/TI24): \")\n",
    "\n",
    "        validasi_data(nim, nama, alamat, kelas)\n",
    "\n",
    "        with open(\"mahasiswa.csv\", mode=\"a\", newline=\"\", encoding=\"utf-8\") as f:\n",
    "            writer = csv.writer(f)\n",
    "            writer.writerow([nim, nama, alamat, kelas])\n",
    "\n",
    "        print(\"Data berhasil disimpan!\\n\")\n",
    "\n",
    "    except InputInvalidError as e:\n",
    "        print(f\"Terjadi kesalahan: {e}\\n\")\n",
    "    except Exception as e:\n",
    "        print(f\"Kesalahan tidak terduga: {e}\\n\")\n",
    "    finally:\n",
    "        print(\"Proses tambah data selesai.\\n\")\n",
    "\n",
    "def tampilkan_data():\n",
    "    try:\n",
    "        with open(\"mahasiswa.csv\", mode=\"r\", encoding=\"utf-8\") as f:\n",
    "            reader = csv.reader(f)\n",
    "            data = list(reader)\n",
    "\n",
    "            if data:\n",
    "                print(\"\\nDaftar Mahasiswa:\")\n",
    "                for row in data:\n",
    "                    if len(row) == 4:\n",
    "                        nim, nama, alamat, kelas = row\n",
    "                        print(f\"NIM: {nim}, Nama: {nama}, Alamat: {alamat}, Kelas: {kelas}\")\n",
    "                    else:\n",
    "                        print(\"Format baris tidak sesuai:\", row)\n",
    "            else:\n",
    "                print(\"Belum ada data mahasiswa.\")\n",
    "    except FileNotFoundError:\n",
    "        print(\"File belum dibuat. Tambahkan data terlebih dahulu.\")\n",
    "    finally:\n",
    "        print(\"Proses tampil data selesai.\\n\")\n",
    "\n",
    "while True:\n",
    "    print(\"=== Menu Data Mahasiswa ===\")\n",
    "    print(\"1. Tambah Data Mahasiswa\")\n",
    "    print(\"2. Tampilkan Data Mahasiswa\")\n",
    "    print(\"3. Keluar\")\n",
    "\n",
    "    pilihan = input(\"Pilih menu (1/2/3): \")\n",
    "\n",
    "    if pilihan == \"1\":\n",
    "        tambah_data()\n",
    "    elif pilihan == \"2\":\n",
    "        tampilkan_data()\n",
    "    elif pilihan == \"3\":\n",
    "        print(\"Terima kasih. Program selesai.\")\n",
    "        break\n",
    "    else:\n",
    "        print(\"Pilihan tidak valid. Coba lagi.\\n\")"
   ]
  },
  {
   "cell_type": "code",
   "execution_count": null,
   "id": "746198a7-f05e-4709-8221-251e3f42c57c",
   "metadata": {},
   "outputs": [],
   "source": []
  }
 ],
 "metadata": {
  "kernelspec": {
   "display_name": "Python [conda env:base] *",
   "language": "python",
   "name": "conda-base-py"
  },
  "language_info": {
   "codemirror_mode": {
    "name": "ipython",
    "version": 3
   },
   "file_extension": ".py",
   "mimetype": "text/x-python",
   "name": "python",
   "nbconvert_exporter": "python",
   "pygments_lexer": "ipython3",
   "version": "3.12.7"
  }
 },
 "nbformat": 4,
 "nbformat_minor": 5
}
