{
 "cells": [
  {
   "cell_type": "code",
   "execution_count": 21,
   "id": "c432264e-e5d7-4323-9acc-d014098ef4a0",
   "metadata": {},
   "outputs": [
    {
     "name": "stdin",
     "output_type": "stream",
     "text": [
      "Isikan Umur Pengguna: 98\n"
     ]
    },
    {
     "name": "stdout",
     "output_type": "stream",
     "text": [
      "Kategori :Dewasa\n"
     ]
    }
   ],
   "source": [
    "umur = int(input(\"Isikan Umur Pengguna:\"))\n",
    "if umur > 59:\n",
    "    kategori = \"Lansia\"\n",
    "if umur > 17:\n",
    "    kategori = \"Dewasa\"\n",
    "elif umur > 12:\n",
    "    kategori = \"Remaja\"\n",
    "elif umur >=0:\n",
    "    kategori = \"Anak-anak\"\n",
    "else:\n",
    "    kategori = \"Umur tidak valid\"\n",
    "\n",
    "\n",
    "print(f\"Kategori :{kategori}\")"
   ]
  },
  {
   "cell_type": "code",
   "execution_count": 3,
   "id": "1c93c64b-2fcb-4e7c-9383-eea54c5e234e",
   "metadata": {},
   "outputs": [
    {
     "name": "stdin",
     "output_type": "stream",
     "text": [
      "Isikan Umur Pengunjung: 11\n",
      "Isikan Umur Pengunjung: 11\n",
      "Isikan Umur Pengunjung: 11\n"
     ]
    },
    {
     "name": "stdout",
     "output_type": "stream",
     "text": [
      "tiket 1: Tiket Anak anak| harga10000\n",
      "tiket 2: Tiket Anak anak| harga10000\n",
      "tiket 3: Tiket Anak anak| harga10000\n",
      "total yang harus dibayar: 30000\n"
     ]
    }
   ],
   "source": [
    "tiket1 = int(input(\"Isikan Umur Pengunjung:\"))\n",
    "tiket2 = int(input(\"Isikan Umur Pengunjung:\"))\n",
    "tiket3 = int(input(\"Isikan Umur Pengunjung:\"))\n",
    "total = 0\n",
    "if tiket1 > 59:\n",
    "    keterangan1 = \"Tiket Lansia\"\n",
    "    harga1 = 0\n",
    "    total += harga\n",
    "elif tiket1 > 17:\n",
    "    keterangan1 = \"Tiket Dewasa\"\n",
    "    harga1 = 25_000\n",
    "elif tiket1 > 12:\n",
    "    keterangan1 = \"Tiket Remaja\"\n",
    "    harga1 = 15_000\n",
    "elif tiket1 >=0:\n",
    "    keterangan1 = \"Tiket Anak anak\"\n",
    "    harga1 = 10_000\n",
    "total += harga1\n",
    "##############\n",
    "if tiket2 > 59:\n",
    "    keterangan2 = \"Tiket Lansia\"\n",
    "    harga2 = 0\n",
    "    total += harga\n",
    "elif tiket2 > 17:\n",
    "    keterangan2 = \"Tiket Dewasa\"\n",
    "    harga2 = 25_000\n",
    "elif tiket2 > 12:\n",
    "    keterangan2 = \"Tiket Remaja\"\n",
    "    harga2 = 15_000\n",
    "elif tiket2 >=0:\n",
    "    keterangan2 = \"Tiket Anak anak\"\n",
    "    harga2 = 10_000\n",
    "total += harga2\n",
    "#############\n",
    "if tiket3 > 59:\n",
    "    keterangan3 = \"Tiket Lansia\"\n",
    "    harga3 = 0\n",
    "    total += harga\n",
    "elif tiket3 > 17:\n",
    "    keterangan3 = \"Tiket Dewasa\"\n",
    "    harga3 = 25_000\n",
    "elif tiket3 > 12:\n",
    "    keterangan3 = \"Tiket Remaja\"\n",
    "    harga3 = 15_000\n",
    "elif tiket3>= 0:\n",
    "    keterangan3 = \"Tiket Anak anak\"\n",
    "    harga3 = 10_000\n",
    "total += harga3\n",
    "\n",
    "print(f\"tiket 1: {keterangan1}| harga{harga1}\")\n",
    "print(f\"tiket 2: {keterangan2}| harga{harga2}\")\n",
    "print(f\"tiket 3: {keterangan3}| harga{harga3}\")\n",
    "print(f\"total yang harus dibayar: {total}\")"
   ]
  },
  {
   "cell_type": "code",
   "execution_count": 11,
   "id": "c5227ee9-b033-4e3a-8c35-e80dbb99f264",
   "metadata": {},
   "outputs": [
    {
     "name": "stdin",
     "output_type": "stream",
     "text": [
      "Isikan Pembayaran UKT: 10000000\n",
      "Isikan Penghasilan ORTU: 7000000\n",
      "Isikan Nilai Rapor Siswa: 90\n"
     ]
    },
    {
     "name": "stdout",
     "output_type": "stream",
     "text": [
      "Uang UKT :10000000\n",
      "Nilai Rapor :90\n",
      "Penghasilan ORTU :7000000\n",
      "Beasiswa :Beasiswa 50%\n",
      "Total Bayar :10000000.0\n"
     ]
    }
   ],
   "source": [
    "ukt = int(input(\"Isikan Pembayaran UKT:\"))\n",
    "penghasilan = int(input(\"Isikan Penghasilan ORTU:\"))\n",
    "nilaiRapor = int(input(\"Isikan Nilai Rapor Siswa:\"))\n",
    "\n",
    "beasiswa = 0\n",
    "if nilaiRapor >= 90:\n",
    "    if penghasilan <5_000_000:\n",
    "        keterangan = \"Beasiswa Penuh\"\n",
    "if nilaiRapor >= 85:\n",
    "    if penghasilan <8_000_000:\n",
    "        keterangan = \"Beasiswa 50%\"\n",
    "else:\n",
    "    keterangan = \"Tidak Mendapatkan Beasiswa\"\n",
    "\n",
    "total = ukt - (ukt * (beasiswa/100))\n",
    "print(f\"Uang UKT :{ukt}\")\n",
    "print(f\"Nilai Rapor :{nilaiRapor}\")\n",
    "print(F\"Penghasilan ORTU :{penghasilan}\")\n",
    "print(F\"Beasiswa :{keterangan}\")\n",
    "print(F\"Total Bayar :{total}\")"
   ]
  },
  {
   "cell_type": "code",
   "execution_count": 9,
   "id": "696f23de-c3fc-4f76-a402-e00bbdff2769",
   "metadata": {},
   "outputs": [
    {
     "name": "stdin",
     "output_type": "stream",
     "text": [
      "Isikan Jenis Kendaraan motor\n",
      "Isikan jam Masuk 4\n",
      "Isikan jam keluar 6\n"
     ]
    },
    {
     "name": "stdout",
     "output_type": "stream",
     "text": [
      "Total Biaya Parkir : 4000\n"
     ]
    }
   ],
   "source": [
    "jenis = input(\"Isikan Jenis Kendaraan\")\n",
    "jamMasuk = int(input(\"Isikan jam Masuk\"))\n",
    "jamKeluar = int(input(\"Isikan jam keluar\"))\n",
    "\n",
    "harga = 0\n",
    "total = 0\n",
    "tambahan = 0\n",
    "if jamMasuk >= jamKeluar:\n",
    "    print(\"Input Jam Tidak Valid\")\n",
    "else:\n",
    "    if jenis == \"motor\":\n",
    "        harga = 2000\n",
    "    elif jenis == \"Mobil\":\n",
    "        harga = 5000\n",
    "    else:\n",
    "        print(\"Jenis Kendaraann tidak ada\")\n",
    "        harga = 0\n",
    "lama = jamKeluar - jamMasuk\n",
    "if lama > 5:\n",
    "    tambahan = 10000\n",
    "else:\n",
    "    tambahan = 0\n",
    "    \n",
    "print(f\"Total Biaya Parkir : {lama * harga + tambahan}\")"
   ]
  },
  {
   "cell_type": "code",
   "execution_count": 2,
   "id": "576ba7ac-703d-4b24-908b-2d69273c7af3",
   "metadata": {},
   "outputs": [
    {
     "ename": "IndentationError",
     "evalue": "unindent does not match any outer indentation level (<string>, line 14)",
     "output_type": "error",
     "traceback": [
      "\u001b[1;36m  File \u001b[1;32m<string>:14\u001b[1;36m\u001b[0m\n\u001b[1;33m    print(f\"no {nopung} posisi anda adalah {info1} dan {info2}\")\u001b[0m\n\u001b[1;37m                                                                ^\u001b[0m\n\u001b[1;31mIndentationError\u001b[0m\u001b[1;31m:\u001b[0m unindent does not match any outer indentation level\n"
     ]
    }
   ],
   "source": [
    "nopung - int(input(\"masukan no punggung anda\"))\n",
    "if nopung % 2==0:\n",
    "    info1 =\"attacker\"\n",
    "    if 50<= nopung <=100:\n",
    "        info1 = \"dan layak sebagai kapten tim\"\n",
    "elif nopung %2==1:\n",
    "    info1 = \"defender\"\n",
    "if nopung >90:\n",
    "    info2 = \"playmaker\"\n",
    "if nopung %3==0 %5==0:\n",
    "    info2 = \"keeper\"\n",
    "else:\n",
    "    print(\"tidak valid\")\n",
    " print(f\"no {nopung} posisi anda adalah {info1} dan {info2}\")\n"
   ]
  },
  {
   "cell_type": "code",
   "execution_count": null,
   "id": "e60f1739-7f1d-4a15-8a25-fbf7c2e77e1d",
   "metadata": {},
   "outputs": [],
   "source": []
  }
 ],
 "metadata": {
  "kernelspec": {
   "display_name": "Python [conda env:base] *",
   "language": "python",
   "name": "conda-base-py"
  },
  "language_info": {
   "codemirror_mode": {
    "name": "ipython",
    "version": 3
   },
   "file_extension": ".py",
   "mimetype": "text/x-python",
   "name": "python",
   "nbconvert_exporter": "python",
   "pygments_lexer": "ipython3",
   "version": "3.12.7"
  }
 },
 "nbformat": 4,
 "nbformat_minor": 5
}
